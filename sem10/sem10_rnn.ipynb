{
 "cells": [
  {
   "cell_type": "markdown",
   "metadata": {
    "id": "1W8R8WgZceEk"
   },
   "source": [
    "# Character-Level LSTM in PyTorch\n",
    "\n",
    "На этом семинаре поговорим про RNN. Здесь мы обучим модель на тексте Анны Карениной, а затем будем генерировать новый текст.**Эта модель сможет генерировать новый текст на основе нашего текста!**\n",
    "\n",
    "Можно посмотреть [очень крутую статью про RNNs](http://karpathy.github.io/2015/05/21/rnn-effectiveness/), а также [не менее крутуя статью про LSTM](http://colah.github.io/posts/2015-08-Understanding-LSTMs/). Ниже представлена ​​общая архитектура RNN.\n",
    "\n",
    "<img src=\"https://github.com/udacity/deep-learning-v2-pytorch/blob/master/recurrent-neural-networks/char-rnn/assets/charseq.jpeg?raw=1\" width=\"500\">"
   ]
  },
  {
   "cell_type": "markdown",
   "metadata": {
    "id": "RMb9A1BIceEl"
   },
   "source": [
    "Сначала загрузим ресурсы, необходимые для загрузки данных и создания модели."
   ]
  },
  {
   "cell_type": "code",
   "execution_count": 1,
   "metadata": {
    "id": "sqUOE2flceEl"
   },
   "outputs": [],
   "source": [
    "import numpy as np\n",
    "import torch\n",
    "from torch import nn\n",
    "import torch.nn.functional as F"
   ]
  },
  {
   "cell_type": "markdown",
   "metadata": {
    "id": "_wHfCDyzceEl"
   },
   "source": [
    "## Load in Data\n",
    "\n",
    "Затем мы загрузим текстовый файл Анны Карениной."
   ]
  },
  {
   "cell_type": "code",
   "execution_count": 2,
   "metadata": {
    "id": "b34kfqIOceEl"
   },
   "outputs": [],
   "source": [
    "# open text file and read in data as `text`\n",
    "with open('anna.txt', 'r') as f:\n",
    "    text = f.read()"
   ]
  },
  {
   "cell_type": "markdown",
   "metadata": {
    "id": "Jp1Ljc4mceEl"
   },
   "source": [
    "Давайте проверим первые 100 символов, убедимся, что все красиво. "
   ]
  },
  {
   "cell_type": "code",
   "execution_count": 5,
   "metadata": {
    "colab": {
     "base_uri": "https://localhost:8080/",
     "height": 35
    },
    "id": "7VctmLQfceEl",
    "outputId": "a8c89cbe-6561-45e6-cca5-103c57a965bf"
   },
   "outputs": [
    {
     "name": "stdout",
     "output_type": "stream",
     "text": [
      "Chapter 1\n",
      "\n",
      "\n",
      "Happy families are all alike; every unhappy family is unhappy in its own\n",
      "way.\n",
      "\n",
      "Everythin\n"
     ]
    }
   ],
   "source": [
    "print(text[:100])"
   ]
  },
  {
   "cell_type": "code",
   "execution_count": 6,
   "metadata": {},
   "outputs": [
    {
     "data": {
      "text/plain": [
       "1985223"
      ]
     },
     "execution_count": 6,
     "metadata": {},
     "output_type": "execute_result"
    }
   ],
   "source": [
    "len(text)"
   ]
  },
  {
   "cell_type": "markdown",
   "metadata": {
    "id": "4iC21bopceEl"
   },
   "source": [
    "### Tokenization\n",
    "\n",
    "В ячейках ниже постараемся создать пару **словарей** для преобразования символов в целые числа и обратно. Кодирование символов как целых чисел упрощает их использование в качестве входных данных в сети."
   ]
  },
  {
   "cell_type": "code",
   "execution_count": 7,
   "metadata": {
    "id": "tYVlmnxLceEl"
   },
   "outputs": [],
   "source": [
    "# encode the text and map each character to an integer and vice versa\n",
    "\n",
    "# we create two dictionaries:\n",
    "# 1. int2char, which maps integers to characters\n",
    "# 2. char2int, which maps characters to unique integers\n",
    "chars = tuple(set(text))\n",
    "int2char = dict(enumerate(chars))\n",
    "char2int = {ch: ii for ii, ch in int2char.items()}\n",
    "\n",
    "# encode the text\n",
    "encoded = np.array([char2int[ch] for ch in text])"
   ]
  },
  {
   "cell_type": "markdown",
   "metadata": {
    "id": "oJIzwzSwceEl"
   },
   "source": [
    "И мы можем видеть те же самые символы сверху, закодированные как целые числа."
   ]
  },
  {
   "cell_type": "code",
   "execution_count": 8,
   "metadata": {
    "colab": {
     "base_uri": "https://localhost:8080/"
    },
    "id": "WK1MYr_9ceEl",
    "outputId": "7ca35004-794b-4849-e526-980c7fd915be"
   },
   "outputs": [
    {
     "data": {
      "text/plain": [
       "array([41, 31,  1, 22, 13, 65, 35, 52, 75, 29, 29, 29,  9,  1, 22, 22, 82,\n",
       "       52, 72,  1, 67, 69,  0, 69, 65, 51, 52,  1, 35, 65, 52,  1,  0,  0,\n",
       "       52,  1,  0, 69, 15, 65, 77, 52, 65, 76, 65, 35, 82, 52, 36, 71, 31,\n",
       "        1, 22, 22, 82, 52, 72,  1, 67, 69,  0, 82, 52, 69, 51, 52, 36, 71,\n",
       "       31,  1, 22, 22, 82, 52, 69, 71, 52, 69, 13, 51, 52,  5, 16, 71, 29,\n",
       "       16,  1, 82, 63, 29, 29, 27, 76, 65, 35, 82, 13, 31, 69, 71])"
      ]
     },
     "execution_count": 8,
     "metadata": {},
     "output_type": "execute_result"
    }
   ],
   "source": [
    "encoded[:100]"
   ]
  },
  {
   "cell_type": "code",
   "execution_count": 10,
   "metadata": {},
   "outputs": [
    {
     "data": {
      "text/plain": [
       "83"
      ]
     },
     "execution_count": 10,
     "metadata": {},
     "output_type": "execute_result"
    }
   ],
   "source": [
    "chars"
   ]
  },
  {
   "cell_type": "code",
   "execution_count": 11,
   "metadata": {},
   "outputs": [
    {
     "data": {
      "text/plain": [
       "(1985223,)"
      ]
     },
     "execution_count": 11,
     "metadata": {},
     "output_type": "execute_result"
    }
   ],
   "source": [
    "encoded.shape"
   ]
  },
  {
   "cell_type": "markdown",
   "metadata": {
    "id": "azltQy-gceEl"
   },
   "source": [
    "## Pre-processing the data\n",
    "\n",
    "Как вы можете видеть на изображении char-RNN выше, наш LSTM ожидает ввода, который  **one-hot encoded** , что означает, что каждый символ преобразуется в целое число (через наш созданный словарь), а затем преобразуется в столбец вектор, где только соответствующий ему целочисленный индекс будет иметь значение 1, а остальная часть вектора будет заполнена нулями. Давайте создадим для этого функцию!\n"
   ]
  },
  {
   "cell_type": "code",
   "execution_count": 12,
   "metadata": {
    "id": "OnahALhiceEl"
   },
   "outputs": [],
   "source": [
    "def one_hot_encode(arr, n_labels):\n",
    "    \n",
    "    # Initialize the the encoded array\n",
    "    one_hot = np.zeros((arr.size, n_labels), dtype=np.float32)\n",
    "    \n",
    "    # Fill the appropriate elements with ones\n",
    "    one_hot[np.arange(one_hot.shape[0]), arr.flatten()] = 1.\n",
    "    \n",
    "    # Finally reshape it to get back to the original array\n",
    "    one_hot = one_hot.reshape((*arr.shape, n_labels))\n",
    "    \n",
    "    return one_hot"
   ]
  },
  {
   "cell_type": "code",
   "execution_count": 14,
   "metadata": {
    "colab": {
     "base_uri": "https://localhost:8080/"
    },
    "id": "L3lTdLKfceEl",
    "outputId": "563d6309-b450-4f8d-f6c7-eee96be05d61"
   },
   "outputs": [
    {
     "name": "stdout",
     "output_type": "stream",
     "text": [
      "[[[0. 0. 0. 1. 0. 0. 0. 0.]\n",
      "  [0. 0. 0. 0. 0. 1. 0. 0.]\n",
      "  [0. 1. 0. 0. 0. 0. 0. 0.]]]\n"
     ]
    }
   ],
   "source": [
    "# check that the function works as expected\n",
    "test_seq = np.array([[3, 5, 1]])\n",
    "one_hot = one_hot_encode(test_seq, 8)\n",
    "\n",
    "print(one_hot)"
   ]
  },
  {
   "cell_type": "markdown",
   "metadata": {
    "id": "9YyL91CuceEl"
   },
   "source": [
    "## Making training mini-batches\n",
    "\n",
    "\n",
    "Для обучения на этих данных нужно создать мини-батчи для обучения. На простом примере наши батчи будут выглядеть так:\n",
    "\n",
    "<img src=\"https://github.com/udacity/deep-learning-v2-pytorch/blob/master/recurrent-neural-networks/char-rnn/assets/sequence_batching@1x.png?raw=1\" width=500px>\n",
    "\n",
    "\n",
    "<br>\n",
    "\n",
    "В этом примере возьмем закодированные символы (переданные как параметр arr) и разделим их на несколько последовательностей, заданных параметром batch_size. Каждая из наших последовательностей будет иметь длину seq_length.\n",
    "\n",
    "### Creating Batches\n",
    "\n",
    "**1. Первое, что нам нужно сделать, это отбросить часть текста, чтобы у нас были только полные мини-батчи.**\n",
    "\n",
    "Каждый батч содержит $ N\\times M $ символов, где $ N $ - это размер батча (количество последовательностей в батче), а $ M $ - длина seq_length или количество шагов в последовательности. Затем, чтобы получить общее количество батчей $ K $, которое мы можем сделать из массива arr, нужно разделить длину arr на количество символов в батче. Как только вы знаете количество пакетов, вы можете получить общее количество символов, которые нужно сохранить, из `arr`, $ N * M * K $.\n",
    "\n",
    "**2. После этого нам нужно разделить arr на $N$ пакетов.** \n",
    "\n",
    "Вы можете сделать это с помощью `arr.reshape(size)`, где `size` - это кортеж, содержащий размеры измененного массива. Мы знаем, что нам нужно $ N $ последовательностей в батче, поэтому сделаем его размером первого измерения. Для второго измерения можем использовать «-1» в качестве заполнителя, он заполнит массив соответствующими данными. После этого должен остаться массив $N\\times(M * K)$.\n",
    "\n",
    "**3. Теперь, когда у нас есть этот массив, мы можем перебирать его, чтобы получить наши мини-батчи.**\n",
    "\n",
    "Идея состоит в том, что каждая партия представляет собой окно $ N\\times M $ в массиве $ N\\times (M * K) $. Для каждого последующего батча окно перемещается на seq_length. Мы также хотим создать как входной, так и выходной массивы. Это окно можно сделать с помощью `range`, чтобы делать шаги размером `n_steps` от $ 0 $ до `arr.shape [1]`, общее количество токенов в каждой последовательности. Таким образом, целые числа, которые получены из диапазона, всегда указывают на начало батча, и каждое окно имеет ширину seq_length.\n",
    "\n",
    "> **TODO:** Напишите код для создания батчей в функции ниже. "
   ]
  },
  {
   "cell_type": "code",
   "execution_count": 22,
   "metadata": {
    "colab": {
     "base_uri": "https://localhost:8080/",
     "height": 130
    },
    "id": "8vmDKLiOceEl",
    "outputId": "a58e9fbd-1548-4a7d-8217-a03f6be262ec"
   },
   "outputs": [],
   "source": [
    "def get_batches(arr, batch_size, seq_length):\n",
    "    '''Create a generator that returns batches of size\n",
    "       batch_size x seq_length from arr.\n",
    "       \n",
    "       Arguments\n",
    "       ---------\n",
    "       arr: Array you want to make batches from\n",
    "       batch_size: Batch size, the number of sequences per batch\n",
    "       seq_length: Number of encoded chars in a sequence\n",
    "    '''\n",
    "    \n",
    "    ## TODO: Get the number of batches we can make\n",
    "    batch_size_total = batch_size * seq_length\n",
    "    n_batches = len(arr) // batch_size_total\n",
    "    \n",
    "    ## TODO: Keep only enough characters to make full batches\n",
    "    arr = arr[:n_batches*batch_size_total]\n",
    "    \n",
    "    ## TODO: Reshape into batch_size rows\n",
    "    arr = arr.reshape((batch_size, -1))\n",
    "\n",
    "    for n in range(0, arr.shape[1], seq_length):\n",
    "        # The features\n",
    "        x = arr[:, n:n+seq_length]\n",
    "        # The targets, shifted by one\n",
    "        y = np.zeros_like(x)\n",
    "        try:\n",
    "            y[:, :-1], y[:, -1] = x[:, 1:], arr[:, n+seq_length]\n",
    "        except IndexError:\n",
    "            y[:, :-1], y[:, -1] = x[:, 1:], arr[:, 0]\n",
    "        yield x, y"
   ]
  },
  {
   "cell_type": "markdown",
   "metadata": {
    "id": "s9uKOvbqceEl"
   },
   "source": [
    "### Test Your Implementation\n",
    "\n",
    "Теперь создадим несколько наборов данных, и проверим, что происходит, когда мы пакетируем данные."
   ]
  },
  {
   "cell_type": "code",
   "execution_count": 23,
   "metadata": {},
   "outputs": [
    {
     "data": {
      "text/plain": [
       "array([[67, 69,  0, 69, 65, 51, 52,  1, 35, 65],\n",
       "       [71, 52, 13, 31, 65, 52, 81, 38,  0,  5],\n",
       "       [45, 35, 65, 71, 49, 31, 29, 64, 69, 35],\n",
       "       [52, 49,  5, 36,  0, 80, 52, 71,  5, 13],\n",
       "       [82, 51, 39, 52,  1, 71, 80, 52, 71,  5],\n",
       "       [52, 16, 65, 35, 65, 52, 22,  1, 69, 71],\n",
       "       [69, 71, 64, 52, 13,  5, 64, 65, 13, 31],\n",
       "       [31, 52,  5, 71, 65, 52,  1, 71,  5, 13]])"
      ]
     },
     "execution_count": 23,
     "metadata": {},
     "output_type": "execute_result"
    }
   ],
   "source": [
    "encoded[:8*100].reshape((8, -1))[:, 20:30]"
   ]
  },
  {
   "cell_type": "code",
   "execution_count": 24,
   "metadata": {
    "id": "qtKlLXi1ceEl"
   },
   "outputs": [],
   "source": [
    "batches = get_batches(encoded, 8, 50)\n",
    "x, y = next(batches)"
   ]
  },
  {
   "cell_type": "code",
   "execution_count": 25,
   "metadata": {
    "colab": {
     "base_uri": "https://localhost:8080/"
    },
    "id": "Rg5MUTqqceEl",
    "outputId": "13922dfb-8ff3-436f-a914-90cc4114be91"
   },
   "outputs": [
    {
     "name": "stdout",
     "output_type": "stream",
     "text": [
      "x\n",
      " [[41 31  1 22 13 65 35 52 75 29]\n",
      " [51  5 71 52 13 31  1 13 52  1]\n",
      " [65 71 80 52  5 35 52  1 52 72]\n",
      " [51 52 13 31 65 52 49 31 69 65]\n",
      " [52 51  1 16 52 31 65 35 52 13]\n",
      " [49 36 51 51 69  5 71 52  1 71]\n",
      " [52 47 71 71  1 52 31  1 80 52]\n",
      " [81 38  0  5 71 51 15 82 63 52]]\n",
      "\n",
      "y\n",
      " [[31  1 22 13 65 35 52 75 29 29]\n",
      " [ 5 71 52 13 31  1 13 52  1 13]\n",
      " [71 80 52  5 35 52  1 52 72  5]\n",
      " [52 13 31 65 52 49 31 69 65 72]\n",
      " [51  1 16 52 31 65 35 52 13 65]\n",
      " [36 51 51 69  5 71 52  1 71 80]\n",
      " [47 71 71  1 52 31  1 80 52 51]\n",
      " [38  0  5 71 51 15 82 63 52 66]]\n"
     ]
    }
   ],
   "source": [
    "# printing out the first 10 items in a sequence\n",
    "print('x\\n', x[:10, :10])\n",
    "print('\\ny\\n', y[:10, :10])"
   ]
  },
  {
   "cell_type": "markdown",
   "metadata": {
    "id": "R_qHIAEIceEl"
   },
   "source": [
    "Если вы правильно реализовали get_batches, результат должен выглядеть примерно так:\n",
    "```\n",
    "x\n",
    " [[25  8 60 11 45 27 28 73  1  2]\n",
    " [17  7 20 73 45  8 60 45 73 60]\n",
    " [27 20 80 73  7 28 73 60 73 65]\n",
    " [17 73 45  8 27 73 66  8 46 27]\n",
    " [73 17 60 12 73  8 27 28 73 45]\n",
    " [66 64 17 17 46  7 20 73 60 20]\n",
    " [73 76 20 20 60 73  8 60 80 73]\n",
    " [47 35 43  7 20 17 24 50 37 73]]\n",
    "\n",
    "y\n",
    " [[ 8 60 11 45 27 28 73  1  2  2]\n",
    " [ 7 20 73 45  8 60 45 73 60 45]\n",
    " [20 80 73  7 28 73 60 73 65  7]\n",
    " [73 45  8 27 73 66  8 46 27 65]\n",
    " [17 60 12 73  8 27 28 73 45 27]\n",
    " [64 17 17 46  7 20 73 60 20 80]\n",
    " [76 20 20 60 73  8 60 80 73 17]\n",
    " [35 43  7 20 17 24 50 37 73 36]]\n",
    " ```\n",
    " хотя точные цифры могут отличаться. Убедитесь, что данные сдвинуты на один шаг для `y`!!!"
   ]
  },
  {
   "cell_type": "markdown",
   "metadata": {
    "id": "Jouxv0L2ceEl"
   },
   "source": [
    "---\n",
    "## Defining the network with PyTorch\n",
    "\n",
    "\n",
    "<img src=\"https://github.com/udacity/deep-learning-v2-pytorch/blob/master/recurrent-neural-networks/char-rnn/assets/charRNN.png?raw=1\" width=500px>\n",
    "\n",
    "Затем используем PyTorch для определения архитектуры сети. Начнем с определения слоев и операций, методов прямого прохода. "
   ]
  },
  {
   "cell_type": "markdown",
   "metadata": {
    "id": "E7s5eRaoceEl"
   },
   "source": [
    "### Model Structure\n",
    "\n",
    "В `__init__` предлагаемая структура выглядит следующим образом:\n",
    "* Создавать и хранить необходимые словари (это было сделано за вас)\n",
    "* Определите слой LSTM, который принимает в качестве параметров: размер ввода (количество символов), размер скрытого слоя `n_hidden`, количество слоев` n_layers`, вероятность выпадения `drop_prob` и логическое значение batch_first (True)\n",
    "* Определите слой отброса данных с помощью drop_prob\n",
    "* Определите полносвязанный слой с параметрами: размер ввода `n_hidden` и размер выхода - количество символов\n",
    "* Наконец, инициализируйте веса\n",
    "\n",
    "Обратите внимание, что некоторые параметры были названы и указаны в функции `__init__`, их нужно сохранить и использовать, выполняя что-то вроде` self.drop_prob = drop_prob`."
   ]
  },
  {
   "cell_type": "markdown",
   "metadata": {
    "id": "Plm1atCuceEl"
   },
   "source": [
    "---\n",
    "### LSTM Inputs/Outputs\n",
    "\n",
    "Вы можете создать [LSTM layer](https://pytorch.org/docs/stable/nn.html#lstm) следующим образом\n",
    "\n",
    "```python\n",
    "self.lstm = nn.LSTM(input_size, n_hidden, n_layers, \n",
    "                            dropout=drop_prob, batch_first=True)\n",
    "```\n",
    "\n",
    "где input_size - это количество символов, которые эта ячейка ожидает видеть в качестве последовательного ввода, а n_hidden - это количество единиц в скрытых слоях ячейки. Можно добавить выпадение, добавив параметр выпадения с заданной вероятностью; это автоматически добавит отсев на входах или выходах. Наконец, в функции `forward` мы можем складывать ячейки LSTM в слои, используя `.view`. При этом он отправляет вывод одной ячейки в следующую ячейку.\n",
    "\n",
    "Здесь же требуется создать начальное скрытое состояние всех нулей:\n",
    "\n",
    "```python\n",
    "self.init_hidden()\n",
    "```"
   ]
  },
  {
   "cell_type": "code",
   "execution_count": 26,
   "metadata": {
    "colab": {
     "base_uri": "https://localhost:8080/"
    },
    "id": "HlTnDntHceEl",
    "outputId": "4c62b499-ea02-446b-db33-f1833de9d6bb"
   },
   "outputs": [
    {
     "name": "stdout",
     "output_type": "stream",
     "text": [
      "Training on GPU!\n"
     ]
    }
   ],
   "source": [
    "# check if GPU is available\n",
    "train_on_gpu = torch.cuda.is_available()\n",
    "if(train_on_gpu):\n",
    "    print('Training on GPU!')\n",
    "else: \n",
    "    print('No GPU available, training on CPU; consider making n_epochs very small.')"
   ]
  },
  {
   "cell_type": "code",
   "execution_count": 29,
   "metadata": {},
   "outputs": [],
   "source": [
    "lstm = nn.LSTM(10, 256, batch_first=True)"
   ]
  },
  {
   "cell_type": "code",
   "execution_count": 40,
   "metadata": {},
   "outputs": [],
   "source": [
    "xx = torch.ones((3, 5, 10))"
   ]
  },
  {
   "cell_type": "code",
   "execution_count": 41,
   "metadata": {},
   "outputs": [
    {
     "data": {
      "text/plain": [
       "tensor([[[1., 1., 1., 1., 1., 1., 1., 1., 1., 1.],\n",
       "         [1., 1., 1., 1., 1., 1., 1., 1., 1., 1.],\n",
       "         [1., 1., 1., 1., 1., 1., 1., 1., 1., 1.],\n",
       "         [1., 1., 1., 1., 1., 1., 1., 1., 1., 1.],\n",
       "         [1., 1., 1., 1., 1., 1., 1., 1., 1., 1.]],\n",
       "\n",
       "        [[1., 1., 1., 1., 1., 1., 1., 1., 1., 1.],\n",
       "         [1., 1., 1., 1., 1., 1., 1., 1., 1., 1.],\n",
       "         [1., 1., 1., 1., 1., 1., 1., 1., 1., 1.],\n",
       "         [1., 1., 1., 1., 1., 1., 1., 1., 1., 1.],\n",
       "         [1., 1., 1., 1., 1., 1., 1., 1., 1., 1.]],\n",
       "\n",
       "        [[1., 1., 1., 1., 1., 1., 1., 1., 1., 1.],\n",
       "         [1., 1., 1., 1., 1., 1., 1., 1., 1., 1.],\n",
       "         [1., 1., 1., 1., 1., 1., 1., 1., 1., 1.],\n",
       "         [1., 1., 1., 1., 1., 1., 1., 1., 1., 1.],\n",
       "         [1., 1., 1., 1., 1., 1., 1., 1., 1., 1.]]])"
      ]
     },
     "execution_count": 41,
     "metadata": {},
     "output_type": "execute_result"
    }
   ],
   "source": [
    "xx"
   ]
  },
  {
   "cell_type": "code",
   "execution_count": 42,
   "metadata": {},
   "outputs": [],
   "source": [
    "a, b = lstm(xx)"
   ]
  },
  {
   "cell_type": "code",
   "execution_count": 43,
   "metadata": {},
   "outputs": [
    {
     "data": {
      "text/plain": [
       "torch.Size([3, 5, 256])"
      ]
     },
     "execution_count": 43,
     "metadata": {},
     "output_type": "execute_result"
    }
   ],
   "source": [
    "a.shape"
   ]
  },
  {
   "cell_type": "code",
   "execution_count": 44,
   "metadata": {},
   "outputs": [
    {
     "data": {
      "text/plain": [
       "torch.Size([1, 3, 256])"
      ]
     },
     "execution_count": 44,
     "metadata": {},
     "output_type": "execute_result"
    }
   ],
   "source": [
    "b[0].shape"
   ]
  },
  {
   "cell_type": "code",
   "execution_count": 45,
   "metadata": {},
   "outputs": [
    {
     "data": {
      "text/plain": [
       "torch.Size([1, 3, 256])"
      ]
     },
     "execution_count": 45,
     "metadata": {},
     "output_type": "execute_result"
    }
   ],
   "source": [
    "b[1].shape"
   ]
  },
  {
   "cell_type": "code",
   "execution_count": 46,
   "metadata": {
    "id": "VPq1EA38rBqn"
   },
   "outputs": [],
   "source": [
    "class CharRNN(nn.Module):\n",
    "    \n",
    "    def __init__(self, tokens, n_hidden=256, n_layers=2,\n",
    "                               drop_prob=0.5, lr=0.001):\n",
    "        super().__init__()\n",
    "        self.drop_prob = drop_prob\n",
    "        self.n_layers = n_layers\n",
    "        self.n_hidden = n_hidden\n",
    "        self.lr = lr\n",
    "        \n",
    "        # creating character dictionaries\n",
    "        self.chars = tokens\n",
    "        self.int2char = dict(enumerate(self.chars))\n",
    "        self.char2int = {ch: ii for ii, ch in self.int2char.items()}\n",
    "        \n",
    "        ## TODO: define the LSTM\n",
    "        self.lstm = nn.LSTM(len(self.chars),\n",
    "                            n_hidden, n_layers, \n",
    "                            dropout=drop_prob, batch_first=True)\n",
    "        \n",
    "        ## TODO: define a dropout layer\n",
    "        self.dropout = nn.Dropout(drop_prob)\n",
    "        \n",
    "        ## TODO: define the final, fully-connected output layer\n",
    "        self.fc = nn.Linear(n_hidden, len(self.chars))\n",
    "      \n",
    "    \n",
    "    def forward(self, x, hidden):\n",
    "        ''' Forward pass through the network. \n",
    "            These inputs are x, and the hidden/cell state `hidden`. '''\n",
    "                \n",
    "        ## TODO: Get the outputs and the new hidden state from the lstm\n",
    "        r_out, hidden = self.lstm(x, hidden)\n",
    "        \n",
    "        ## TODO: pass through a dropout layer\n",
    "        out = self.dropout(r_out)\n",
    "        \n",
    "        # Stack up LSTM outputs using view\n",
    "        # you may need to use contiguous to reshape the output\n",
    "        out = out.contiguous().view(-1, self.n_hidden)\n",
    "        \n",
    "        ## TODO: put x through the fully-connected layer\n",
    "        out = self.fc(out)\n",
    "        \n",
    "        # return the final output and the hidden state\n",
    "        return out, hidden\n",
    "    \n",
    "    \n",
    "    def init_hidden(self, batch_size):\n",
    "        ''' Initializes hidden state '''\n",
    "        # Create two new tensors with sizes n_layers x batch_size x n_hidden,\n",
    "        # initialized to zero, for hidden state and cell state of LSTM\n",
    "        weight = next(self.parameters()).data\n",
    "        \n",
    "        if (train_on_gpu):\n",
    "            hidden = (weight.new(self.n_layers, batch_size, self.n_hidden).zero_().cuda(),\n",
    "                  weight.new(self.n_layers, batch_size, self.n_hidden).zero_().cuda())\n",
    "        else:\n",
    "            hidden = (weight.new(self.n_layers, batch_size, self.n_hidden).zero_(),\n",
    "                      weight.new(self.n_layers, batch_size, self.n_hidden).zero_())\n",
    "        \n",
    "        return hidden"
   ]
  },
  {
   "cell_type": "markdown",
   "metadata": {
    "id": "5IrBRlEPceEl"
   },
   "source": [
    "## Time to train\n",
    "\n",
    "Во время обучения нужно установить количество эпох, скорость обучения и другие параметры.\n",
    "\n",
    "Используем оптимизатор Адама и кросс-энтропию, считаем loss и, как обычно, выполняем back propagation!\n",
    "\n",
    "Пара подробностей об обучении:\n",
    "> * В рамках цикла мы отделяем скрытое состояние от его истории; на этот раз установив его равным новой переменной * tuple *, потому что LSTM имеет скрытое состояние, которое является кортежем скрытых состояний.\n",
    "* Мы используем [`clip_grad_norm_`](https://pytorch.org/docs/stable/_modules/torch/nn/utils/clip_grad.html) чтобы избавиться от взрывающегося градиента."
   ]
  },
  {
   "cell_type": "code",
   "execution_count": 47,
   "metadata": {
    "id": "lv8VkRI0ceEl"
   },
   "outputs": [],
   "source": [
    "def train(net, data, epochs=10, batch_size=10, seq_length=50, lr=0.001, clip=5, val_frac=0.1, print_every=10):\n",
    "    ''' Training a network \n",
    "    \n",
    "        Arguments\n",
    "        ---------\n",
    "        \n",
    "        net: CharRNN network\n",
    "        data: text data to train the network\n",
    "        epochs: Number of epochs to train\n",
    "        batch_size: Number of mini-sequences per mini-batch, aka batch size\n",
    "        seq_length: Number of character steps per mini-batch\n",
    "        lr: learning rate\n",
    "        clip: gradient clipping\n",
    "        val_frac: Fraction of data to hold out for validation\n",
    "        print_every: Number of steps for printing training and validation loss\n",
    "    \n",
    "    '''\n",
    "    net.train()\n",
    "    \n",
    "    opt = torch.optim.Adam(net.parameters(), lr=lr)\n",
    "    criterion = nn.CrossEntropyLoss()\n",
    "    \n",
    "    # create training and validation data\n",
    "    val_idx = int(len(data)*(1-val_frac))\n",
    "    data, val_data = data[:val_idx], data[val_idx:]\n",
    "    \n",
    "    if(train_on_gpu):\n",
    "        net.cuda()\n",
    "    \n",
    "    counter = 0\n",
    "    n_chars = len(net.chars)\n",
    "    for e in range(epochs):\n",
    "        # initialize hidden state\n",
    "        h = net.init_hidden(batch_size)\n",
    "        \n",
    "        for x, y in get_batches(data, batch_size, seq_length):\n",
    "            counter += 1\n",
    "            \n",
    "            # One-hot encode our data and make them Torch tensors\n",
    "            x = one_hot_encode(x, n_chars)\n",
    "            inputs, targets = torch.from_numpy(x), torch.from_numpy(y)\n",
    "            if counter == 2:\n",
    "                print(inputs.shape, targets.shape)\n",
    "                print(inputs, targets)\n",
    "            \n",
    "            if(train_on_gpu):\n",
    "                inputs, targets = inputs.cuda(), targets.cuda()\n",
    "\n",
    "            # Creating new variables for the hidden state, otherwise\n",
    "            # we'd backprop through the entire training history\n",
    "            h = tuple([each.data for each in h])\n",
    "\n",
    "            # zero accumulated gradients\n",
    "            net.zero_grad()\n",
    "            \n",
    "            # get the output from the model\n",
    "            output, h = net(inputs, h)\n",
    "            \n",
    "            # calculate the loss and perform backprop\n",
    "            loss = criterion(output, targets.view(batch_size*seq_length).long())\n",
    "            loss.backward()\n",
    "            # `clip_grad_norm` helps prevent the exploding gradient problem in RNNs / LSTMs.\n",
    "            nn.utils.clip_grad_norm_(net.parameters(), clip)\n",
    "            opt.step()\n",
    "            \n",
    "            # loss stats\n",
    "            if counter % print_every == 0:\n",
    "                # Get validation loss\n",
    "                val_h = net.init_hidden(batch_size)\n",
    "                val_losses = []\n",
    "                net.eval()\n",
    "                for x, y in get_batches(val_data, batch_size, seq_length):\n",
    "                    # One-hot encode our data and make them Torch tensors\n",
    "                    x = one_hot_encode(x, n_chars)\n",
    "                    x, y = torch.from_numpy(x), torch.from_numpy(y)\n",
    "                    \n",
    "                    # Creating new variables for the hidden state, otherwise\n",
    "                    # we'd backprop through the entire training history\n",
    "                    val_h = tuple([each.data for each in val_h])\n",
    "                    \n",
    "                    inputs, targets = x, y\n",
    "                    if(train_on_gpu):\n",
    "                        inputs, targets = inputs.cuda(), targets.cuda()\n",
    "\n",
    "                    output, val_h = net(inputs, val_h)\n",
    "                    val_loss = criterion(output, targets.view(batch_size*seq_length).long())\n",
    "                \n",
    "                    val_losses.append(val_loss.item())\n",
    "                \n",
    "                net.train() # reset to train mode after iterationg through validation data\n",
    "                \n",
    "                print(\"Epoch: {}/{}...\".format(e+1, epochs),\n",
    "                      \"Step: {}...\".format(counter),\n",
    "                      \"Loss: {:.4f}...\".format(loss.item()),\n",
    "                      \"Val Loss: {:.4f}\".format(np.mean(val_losses)))"
   ]
  },
  {
   "cell_type": "markdown",
   "metadata": {
    "id": "Gt0q4KGEceEm"
   },
   "source": [
    "## Instantiating the model\n",
    "\n",
    "Теперь мы можем создать модель с заданными гиперпараметрами. Определим размеры мини-батчей!"
   ]
  },
  {
   "cell_type": "code",
   "execution_count": 48,
   "metadata": {
    "colab": {
     "base_uri": "https://localhost:8080/"
    },
    "id": "ykMcIloEr3G7",
    "outputId": "0bc5a222-f3ae-4632-b190-c107f6bfba38"
   },
   "outputs": [
    {
     "name": "stdout",
     "output_type": "stream",
     "text": [
      "CharRNN(\n",
      "  (lstm): LSTM(83, 512, num_layers=2, batch_first=True, dropout=0.5)\n",
      "  (dropout): Dropout(p=0.5, inplace=False)\n",
      "  (fc): Linear(in_features=512, out_features=83, bias=True)\n",
      ")\n"
     ]
    }
   ],
   "source": [
    "# define and print the net\n",
    "n_hidden=512\n",
    "n_layers=2\n",
    "\n",
    "net = CharRNN(chars, n_hidden, n_layers)\n",
    "print(net)"
   ]
  },
  {
   "cell_type": "markdown",
   "metadata": {
    "id": "XHy6mECuceEm"
   },
   "source": [
    "### Set your training hyperparameters!"
   ]
  },
  {
   "cell_type": "code",
   "execution_count": 49,
   "metadata": {
    "colab": {
     "base_uri": "https://localhost:8080/",
     "height": 392
    },
    "id": "8hTkNrWEsjgI",
    "outputId": "197e9c85-4733-49fd-afc9-8c195d03fcde"
   },
   "outputs": [
    {
     "name": "stdout",
     "output_type": "stream",
     "text": [
      "torch.Size([128, 100, 83]) torch.Size([128, 100])\n",
      "tensor([[[0., 0., 0.,  ..., 0., 0., 0.],\n",
      "         [0., 0., 0.,  ..., 0., 0., 0.],\n",
      "         [0., 0., 0.,  ..., 0., 0., 0.],\n",
      "         ...,\n",
      "         [0., 0., 0.,  ..., 0., 0., 0.],\n",
      "         [0., 0., 0.,  ..., 0., 0., 0.],\n",
      "         [0., 0., 0.,  ..., 0., 0., 0.]],\n",
      "\n",
      "        [[0., 0., 0.,  ..., 0., 0., 0.],\n",
      "         [0., 0., 0.,  ..., 0., 0., 0.],\n",
      "         [0., 0., 0.,  ..., 0., 0., 0.],\n",
      "         ...,\n",
      "         [0., 0., 0.,  ..., 0., 0., 0.],\n",
      "         [0., 0., 0.,  ..., 0., 0., 0.],\n",
      "         [0., 0., 0.,  ..., 0., 0., 0.]],\n",
      "\n",
      "        [[0., 0., 0.,  ..., 0., 0., 0.],\n",
      "         [0., 0., 0.,  ..., 0., 0., 0.],\n",
      "         [0., 0., 0.,  ..., 0., 0., 0.],\n",
      "         ...,\n",
      "         [0., 0., 0.,  ..., 0., 0., 0.],\n",
      "         [0., 0., 0.,  ..., 0., 0., 0.],\n",
      "         [0., 0., 0.,  ..., 0., 0., 0.]],\n",
      "\n",
      "        ...,\n",
      "\n",
      "        [[0., 0., 0.,  ..., 0., 0., 0.],\n",
      "         [0., 0., 0.,  ..., 0., 0., 0.],\n",
      "         [0., 0., 0.,  ..., 0., 0., 0.],\n",
      "         ...,\n",
      "         [0., 0., 0.,  ..., 0., 0., 0.],\n",
      "         [0., 0., 0.,  ..., 0., 0., 1.],\n",
      "         [0., 0., 0.,  ..., 0., 0., 0.]],\n",
      "\n",
      "        [[0., 0., 0.,  ..., 0., 0., 0.],\n",
      "         [1., 0., 0.,  ..., 0., 0., 0.],\n",
      "         [0., 0., 0.,  ..., 0., 0., 0.],\n",
      "         ...,\n",
      "         [0., 0., 0.,  ..., 0., 0., 0.],\n",
      "         [0., 0., 0.,  ..., 0., 0., 0.],\n",
      "         [0., 0., 0.,  ..., 0., 0., 0.]],\n",
      "\n",
      "        [[0., 0., 0.,  ..., 1., 0., 0.],\n",
      "         [0., 0., 0.,  ..., 0., 0., 1.],\n",
      "         [0., 0., 0.,  ..., 0., 0., 0.],\n",
      "         ...,\n",
      "         [0., 0., 0.,  ..., 0., 0., 0.],\n",
      "         [0., 0., 0.,  ..., 0., 0., 0.],\n",
      "         [0., 0., 0.,  ..., 0., 0., 0.]]]) tensor([[52, 16,  1,  ...,  5, 71, 52],\n",
      "        [52, 51, 22,  ..., 65, 52, 67],\n",
      "        [71, 65, 69,  ..., 13, 65, 52],\n",
      "        ...,\n",
      "        [31, 39, 52,  ..., 82, 29, 64],\n",
      "        [ 0,  5, 16,  ..., 67, 65, 52],\n",
      "        [82, 65, 76,  ..., 52, 64,  0]])\n",
      "Epoch: 1/20... Step: 10... Loss: 3.2675... Val Loss: 3.1922\n",
      "Epoch: 1/20... Step: 20... Loss: 3.1470... Val Loss: 3.1281\n",
      "Epoch: 1/20... Step: 30... Loss: 3.1435... Val Loss: 3.1210\n",
      "Epoch: 1/20... Step: 40... Loss: 3.1141... Val Loss: 3.1193\n",
      "Epoch: 1/20... Step: 50... Loss: 3.1424... Val Loss: 3.1172\n",
      "Epoch: 1/20... Step: 60... Loss: 3.1173... Val Loss: 3.1150\n",
      "Epoch: 1/20... Step: 70... Loss: 3.1034... Val Loss: 3.1124\n",
      "Epoch: 1/20... Step: 80... Loss: 3.1167... Val Loss: 3.1047\n",
      "Epoch: 1/20... Step: 90... Loss: 3.1075... Val Loss: 3.0878\n",
      "Epoch: 1/20... Step: 100... Loss: 3.0537... Val Loss: 3.0377\n",
      "Epoch: 1/20... Step: 110... Loss: 2.9723... Val Loss: 2.9445\n",
      "Epoch: 1/20... Step: 120... Loss: 2.8244... Val Loss: 2.8156\n",
      "Epoch: 1/20... Step: 130... Loss: 2.7625... Val Loss: 2.7035\n",
      "Epoch: 2/20... Step: 140... Loss: 2.6471... Val Loss: 2.6023\n",
      "Epoch: 2/20... Step: 150... Loss: 2.5812... Val Loss: 2.5213\n",
      "Epoch: 2/20... Step: 160... Loss: 2.5184... Val Loss: 2.4743\n",
      "Epoch: 2/20... Step: 170... Loss: 2.4516... Val Loss: 2.4272\n",
      "Epoch: 2/20... Step: 180... Loss: 2.4260... Val Loss: 2.3958\n",
      "Epoch: 2/20... Step: 190... Loss: 2.3747... Val Loss: 2.3629\n",
      "Epoch: 2/20... Step: 200... Loss: 2.3649... Val Loss: 2.3324\n",
      "Epoch: 2/20... Step: 210... Loss: 2.3334... Val Loss: 2.3046\n",
      "Epoch: 2/20... Step: 220... Loss: 2.2981... Val Loss: 2.2756\n",
      "Epoch: 2/20... Step: 230... Loss: 2.2722... Val Loss: 2.2459\n",
      "Epoch: 2/20... Step: 240... Loss: 2.2612... Val Loss: 2.2265\n",
      "Epoch: 2/20... Step: 250... Loss: 2.2079... Val Loss: 2.1976\n",
      "Epoch: 2/20... Step: 260... Loss: 2.1698... Val Loss: 2.1708\n",
      "Epoch: 2/20... Step: 270... Loss: 2.1816... Val Loss: 2.1513\n",
      "Epoch: 3/20... Step: 280... Loss: 2.1741... Val Loss: 2.1280\n",
      "Epoch: 3/20... Step: 290... Loss: 2.1460... Val Loss: 2.1060\n",
      "Epoch: 3/20... Step: 300... Loss: 2.1173... Val Loss: 2.0850\n",
      "Epoch: 3/20... Step: 310... Loss: 2.0863... Val Loss: 2.0676\n",
      "Epoch: 3/20... Step: 320... Loss: 2.0592... Val Loss: 2.0493\n",
      "Epoch: 3/20... Step: 330... Loss: 2.0290... Val Loss: 2.0323\n",
      "Epoch: 3/20... Step: 340... Loss: 2.0522... Val Loss: 2.0065\n",
      "Epoch: 3/20... Step: 350... Loss: 2.0217... Val Loss: 1.9923\n",
      "Epoch: 3/20... Step: 360... Loss: 1.9651... Val Loss: 1.9745\n",
      "Epoch: 3/20... Step: 370... Loss: 1.9905... Val Loss: 1.9594\n",
      "Epoch: 3/20... Step: 380... Loss: 1.9752... Val Loss: 1.9417\n",
      "Epoch: 3/20... Step: 390... Loss: 1.9524... Val Loss: 1.9317\n",
      "Epoch: 3/20... Step: 400... Loss: 1.9216... Val Loss: 1.9173\n",
      "Epoch: 3/20... Step: 410... Loss: 1.9322... Val Loss: 1.9033\n",
      "Epoch: 4/20... Step: 420... Loss: 1.9127... Val Loss: 1.8916\n",
      "Epoch: 4/20... Step: 430... Loss: 1.8993... Val Loss: 1.8738\n",
      "Epoch: 4/20... Step: 440... Loss: 1.8936... Val Loss: 1.8618\n",
      "Epoch: 4/20... Step: 450... Loss: 1.8355... Val Loss: 1.8489\n",
      "Epoch: 4/20... Step: 460... Loss: 1.8313... Val Loss: 1.8372\n",
      "Epoch: 4/20... Step: 470... Loss: 1.8538... Val Loss: 1.8312\n",
      "Epoch: 4/20... Step: 480... Loss: 1.8343... Val Loss: 1.8149\n",
      "Epoch: 4/20... Step: 490... Loss: 1.8379... Val Loss: 1.8015\n",
      "Epoch: 4/20... Step: 500... Loss: 1.8291... Val Loss: 1.7906\n",
      "Epoch: 4/20... Step: 510... Loss: 1.8046... Val Loss: 1.7824\n",
      "Epoch: 4/20... Step: 520... Loss: 1.8256... Val Loss: 1.7725\n",
      "Epoch: 4/20... Step: 530... Loss: 1.7869... Val Loss: 1.7646\n",
      "Epoch: 4/20... Step: 540... Loss: 1.7415... Val Loss: 1.7529\n",
      "Epoch: 4/20... Step: 550... Loss: 1.7874... Val Loss: 1.7391\n",
      "Epoch: 5/20... Step: 560... Loss: 1.7598... Val Loss: 1.7309\n",
      "Epoch: 5/20... Step: 570... Loss: 1.7482... Val Loss: 1.7276\n",
      "Epoch: 5/20... Step: 580... Loss: 1.7352... Val Loss: 1.7149\n",
      "Epoch: 5/20... Step: 590... Loss: 1.7284... Val Loss: 1.7043\n",
      "Epoch: 5/20... Step: 600... Loss: 1.7071... Val Loss: 1.7022\n",
      "Epoch: 5/20... Step: 610... Loss: 1.7053... Val Loss: 1.6983\n",
      "Epoch: 5/20... Step: 620... Loss: 1.7048... Val Loss: 1.6871\n",
      "Epoch: 5/20... Step: 630... Loss: 1.7197... Val Loss: 1.6783\n",
      "Epoch: 5/20... Step: 640... Loss: 1.6874... Val Loss: 1.6675\n",
      "Epoch: 5/20... Step: 650... Loss: 1.6751... Val Loss: 1.6611\n",
      "Epoch: 5/20... Step: 660... Loss: 1.6498... Val Loss: 1.6551\n",
      "Epoch: 5/20... Step: 670... Loss: 1.6761... Val Loss: 1.6502\n",
      "Epoch: 5/20... Step: 680... Loss: 1.6702... Val Loss: 1.6411\n",
      "Epoch: 5/20... Step: 690... Loss: 1.6575... Val Loss: 1.6335\n",
      "Epoch: 6/20... Step: 700... Loss: 1.6479... Val Loss: 1.6258\n",
      "Epoch: 6/20... Step: 710... Loss: 1.6322... Val Loss: 1.6243\n",
      "Epoch: 6/20... Step: 720... Loss: 1.6241... Val Loss: 1.6166\n",
      "Epoch: 6/20... Step: 730... Loss: 1.6465... Val Loss: 1.6117\n",
      "Epoch: 6/20... Step: 740... Loss: 1.6035... Val Loss: 1.6087\n",
      "Epoch: 6/20... Step: 750... Loss: 1.5929... Val Loss: 1.6035\n",
      "Epoch: 6/20... Step: 760... Loss: 1.6210... Val Loss: 1.5941\n",
      "Epoch: 6/20... Step: 770... Loss: 1.6084... Val Loss: 1.5944\n",
      "Epoch: 6/20... Step: 780... Loss: 1.5952... Val Loss: 1.5849\n",
      "Epoch: 6/20... Step: 790... Loss: 1.5734... Val Loss: 1.5816\n",
      "Epoch: 6/20... Step: 800... Loss: 1.6006... Val Loss: 1.5756\n",
      "Epoch: 6/20... Step: 810... Loss: 1.5751... Val Loss: 1.5707\n",
      "Epoch: 6/20... Step: 820... Loss: 1.5491... Val Loss: 1.5673\n",
      "Epoch: 6/20... Step: 830... Loss: 1.5967... Val Loss: 1.5616\n",
      "Epoch: 7/20... Step: 840... Loss: 1.5444... Val Loss: 1.5531\n",
      "Epoch: 7/20... Step: 850... Loss: 1.5569... Val Loss: 1.5531\n",
      "Epoch: 7/20... Step: 860... Loss: 1.5479... Val Loss: 1.5477\n",
      "Epoch: 7/20... Step: 870... Loss: 1.5602... Val Loss: 1.5435\n",
      "Epoch: 7/20... Step: 880... Loss: 1.5570... Val Loss: 1.5418\n",
      "Epoch: 7/20... Step: 890... Loss: 1.5512... Val Loss: 1.5391\n",
      "Epoch: 7/20... Step: 900... Loss: 1.5345... Val Loss: 1.5363\n",
      "Epoch: 7/20... Step: 910... Loss: 1.5108... Val Loss: 1.5311\n",
      "Epoch: 7/20... Step: 920... Loss: 1.5322... Val Loss: 1.5256\n",
      "Epoch: 7/20... Step: 930... Loss: 1.5150... Val Loss: 1.5223\n",
      "Epoch: 7/20... Step: 940... Loss: 1.5204... Val Loss: 1.5181\n",
      "Epoch: 7/20... Step: 950... Loss: 1.5350... Val Loss: 1.5141\n",
      "Epoch: 7/20... Step: 960... Loss: 1.5262... Val Loss: 1.5122\n",
      "Epoch: 7/20... Step: 970... Loss: 1.5310... Val Loss: 1.5079\n",
      "Epoch: 8/20... Step: 980... Loss: 1.5055... Val Loss: 1.5037\n",
      "Epoch: 8/20... Step: 990... Loss: 1.5079... Val Loss: 1.4995\n",
      "Epoch: 8/20... Step: 1000... Loss: 1.5024... Val Loss: 1.4977\n",
      "Epoch: 8/20... Step: 1010... Loss: 1.5409... Val Loss: 1.4959\n",
      "Epoch: 8/20... Step: 1020... Loss: 1.5033... Val Loss: 1.4939\n",
      "Epoch: 8/20... Step: 1030... Loss: 1.4840... Val Loss: 1.4892\n",
      "Epoch: 8/20... Step: 1040... Loss: 1.5065... Val Loss: 1.4942\n"
     ]
    },
    {
     "name": "stdout",
     "output_type": "stream",
     "text": [
      "Epoch: 8/20... Step: 1050... Loss: 1.4770... Val Loss: 1.4869\n",
      "Epoch: 8/20... Step: 1060... Loss: 1.4828... Val Loss: 1.4817\n",
      "Epoch: 8/20... Step: 1070... Loss: 1.4926... Val Loss: 1.4790\n",
      "Epoch: 8/20... Step: 1080... Loss: 1.4820... Val Loss: 1.4759\n",
      "Epoch: 8/20... Step: 1090... Loss: 1.4713... Val Loss: 1.4728\n",
      "Epoch: 8/20... Step: 1100... Loss: 1.4602... Val Loss: 1.4683\n",
      "Epoch: 8/20... Step: 1110... Loss: 1.4662... Val Loss: 1.4626\n",
      "Epoch: 9/20... Step: 1120... Loss: 1.4764... Val Loss: 1.4643\n",
      "Epoch: 9/20... Step: 1130... Loss: 1.4720... Val Loss: 1.4573\n",
      "Epoch: 9/20... Step: 1140... Loss: 1.4755... Val Loss: 1.4550\n",
      "Epoch: 9/20... Step: 1150... Loss: 1.4814... Val Loss: 1.4584\n",
      "Epoch: 9/20... Step: 1160... Loss: 1.4359... Val Loss: 1.4593\n",
      "Epoch: 9/20... Step: 1170... Loss: 1.4483... Val Loss: 1.4530\n",
      "Epoch: 9/20... Step: 1180... Loss: 1.4417... Val Loss: 1.4595\n",
      "Epoch: 9/20... Step: 1190... Loss: 1.4783... Val Loss: 1.4496\n",
      "Epoch: 9/20... Step: 1200... Loss: 1.4260... Val Loss: 1.4455\n",
      "Epoch: 9/20... Step: 1210... Loss: 1.4451... Val Loss: 1.4400\n",
      "Epoch: 9/20... Step: 1220... Loss: 1.4317... Val Loss: 1.4388\n",
      "Epoch: 9/20... Step: 1230... Loss: 1.4141... Val Loss: 1.4371\n",
      "Epoch: 9/20... Step: 1240... Loss: 1.4325... Val Loss: 1.4345\n",
      "Epoch: 9/20... Step: 1250... Loss: 1.4331... Val Loss: 1.4280\n",
      "Epoch: 10/20... Step: 1260... Loss: 1.4356... Val Loss: 1.4305\n",
      "Epoch: 10/20... Step: 1270... Loss: 1.4294... Val Loss: 1.4254\n",
      "Epoch: 10/20... Step: 1280... Loss: 1.4378... Val Loss: 1.4236\n",
      "Epoch: 10/20... Step: 1290... Loss: 1.4242... Val Loss: 1.4260\n",
      "Epoch: 10/20... Step: 1300... Loss: 1.4237... Val Loss: 1.4255\n",
      "Epoch: 10/20... Step: 1310... Loss: 1.4202... Val Loss: 1.4239\n",
      "Epoch: 10/20... Step: 1320... Loss: 1.3869... Val Loss: 1.4216\n",
      "Epoch: 10/20... Step: 1330... Loss: 1.4036... Val Loss: 1.4179\n",
      "Epoch: 10/20... Step: 1340... Loss: 1.3914... Val Loss: 1.4158\n",
      "Epoch: 10/20... Step: 1350... Loss: 1.3812... Val Loss: 1.4099\n",
      "Epoch: 10/20... Step: 1360... Loss: 1.3867... Val Loss: 1.4108\n",
      "Epoch: 10/20... Step: 1370... Loss: 1.3781... Val Loss: 1.4100\n",
      "Epoch: 10/20... Step: 1380... Loss: 1.4188... Val Loss: 1.4079\n",
      "Epoch: 10/20... Step: 1390... Loss: 1.4280... Val Loss: 1.4024\n",
      "Epoch: 11/20... Step: 1400... Loss: 1.4230... Val Loss: 1.4063\n",
      "Epoch: 11/20... Step: 1410... Loss: 1.4316... Val Loss: 1.4027\n",
      "Epoch: 11/20... Step: 1420... Loss: 1.4239... Val Loss: 1.3972\n",
      "Epoch: 11/20... Step: 1430... Loss: 1.3919... Val Loss: 1.4028\n",
      "Epoch: 11/20... Step: 1440... Loss: 1.4147... Val Loss: 1.4016\n",
      "Epoch: 11/20... Step: 1450... Loss: 1.3411... Val Loss: 1.3968\n",
      "Epoch: 11/20... Step: 1460... Loss: 1.3701... Val Loss: 1.3952\n",
      "Epoch: 11/20... Step: 1470... Loss: 1.3689... Val Loss: 1.3973\n",
      "Epoch: 11/20... Step: 1480... Loss: 1.3861... Val Loss: 1.3925\n",
      "Epoch: 11/20... Step: 1490... Loss: 1.3694... Val Loss: 1.3895\n",
      "Epoch: 11/20... Step: 1500... Loss: 1.3616... Val Loss: 1.3912\n",
      "Epoch: 11/20... Step: 1510... Loss: 1.3447... Val Loss: 1.3914\n",
      "Epoch: 11/20... Step: 1520... Loss: 1.3854... Val Loss: 1.3880\n",
      "Epoch: 12/20... Step: 1530... Loss: 1.4337... Val Loss: 1.3832\n",
      "Epoch: 12/20... Step: 1540... Loss: 1.3820... Val Loss: 1.3814\n",
      "Epoch: 12/20... Step: 1550... Loss: 1.3877... Val Loss: 1.3789\n",
      "Epoch: 12/20... Step: 1560... Loss: 1.3989... Val Loss: 1.3779\n",
      "Epoch: 12/20... Step: 1570... Loss: 1.3394... Val Loss: 1.3828\n",
      "Epoch: 12/20... Step: 1580... Loss: 1.3327... Val Loss: 1.3762\n",
      "Epoch: 12/20... Step: 1590... Loss: 1.3261... Val Loss: 1.3753\n",
      "Epoch: 12/20... Step: 1600... Loss: 1.3477... Val Loss: 1.3758\n",
      "Epoch: 12/20... Step: 1610... Loss: 1.3360... Val Loss: 1.3723\n",
      "Epoch: 12/20... Step: 1620... Loss: 1.3346... Val Loss: 1.3722\n",
      "Epoch: 12/20... Step: 1630... Loss: 1.3627... Val Loss: 1.3705\n",
      "Epoch: 12/20... Step: 1640... Loss: 1.3384... Val Loss: 1.3735\n",
      "Epoch: 12/20... Step: 1650... Loss: 1.3117... Val Loss: 1.3658\n",
      "Epoch: 12/20... Step: 1660... Loss: 1.3681... Val Loss: 1.3605\n",
      "Epoch: 13/20... Step: 1670... Loss: 1.3318... Val Loss: 1.3613\n",
      "Epoch: 13/20... Step: 1680... Loss: 1.3491... Val Loss: 1.3624\n",
      "Epoch: 13/20... Step: 1690... Loss: 1.3327... Val Loss: 1.3556\n",
      "Epoch: 13/20... Step: 1700... Loss: 1.3274... Val Loss: 1.3579\n",
      "Epoch: 13/20... Step: 1710... Loss: 1.3058... Val Loss: 1.3621\n",
      "Epoch: 13/20... Step: 1720... Loss: 1.3145... Val Loss: 1.3579\n",
      "Epoch: 13/20... Step: 1730... Loss: 1.3536... Val Loss: 1.3549\n",
      "Epoch: 13/20... Step: 1740... Loss: 1.3228... Val Loss: 1.3549\n",
      "Epoch: 13/20... Step: 1750... Loss: 1.2878... Val Loss: 1.3588\n",
      "Epoch: 13/20... Step: 1760... Loss: 1.3129... Val Loss: 1.3536\n",
      "Epoch: 13/20... Step: 1770... Loss: 1.3343... Val Loss: 1.3467\n",
      "Epoch: 13/20... Step: 1780... Loss: 1.3098... Val Loss: 1.3466\n",
      "Epoch: 13/20... Step: 1790... Loss: 1.2928... Val Loss: 1.3473\n",
      "Epoch: 13/20... Step: 1800... Loss: 1.3174... Val Loss: 1.3454\n",
      "Epoch: 14/20... Step: 1810... Loss: 1.3154... Val Loss: 1.3442\n",
      "Epoch: 14/20... Step: 1820... Loss: 1.3111... Val Loss: 1.3400\n",
      "Epoch: 14/20... Step: 1830... Loss: 1.3283... Val Loss: 1.3363\n",
      "Epoch: 14/20... Step: 1840... Loss: 1.2722... Val Loss: 1.3382\n",
      "Epoch: 14/20... Step: 1850... Loss: 1.2685... Val Loss: 1.3406\n",
      "Epoch: 14/20... Step: 1860... Loss: 1.3178... Val Loss: 1.3408\n",
      "Epoch: 14/20... Step: 1870... Loss: 1.3261... Val Loss: 1.3361\n",
      "Epoch: 14/20... Step: 1880... Loss: 1.3203... Val Loss: 1.3359\n",
      "Epoch: 14/20... Step: 1890... Loss: 1.3333... Val Loss: 1.3382\n",
      "Epoch: 14/20... Step: 1900... Loss: 1.3023... Val Loss: 1.3407\n",
      "Epoch: 14/20... Step: 1910... Loss: 1.3105... Val Loss: 1.3296\n",
      "Epoch: 14/20... Step: 1920... Loss: 1.3049... Val Loss: 1.3297\n",
      "Epoch: 14/20... Step: 1930... Loss: 1.2667... Val Loss: 1.3260\n",
      "Epoch: 14/20... Step: 1940... Loss: 1.3204... Val Loss: 1.3262\n",
      "Epoch: 15/20... Step: 1950... Loss: 1.2918... Val Loss: 1.3278\n",
      "Epoch: 15/20... Step: 1960... Loss: 1.2982... Val Loss: 1.3230\n",
      "Epoch: 15/20... Step: 1970... Loss: 1.2870... Val Loss: 1.3208\n",
      "Epoch: 15/20... Step: 1980... Loss: 1.2765... Val Loss: 1.3262\n",
      "Epoch: 15/20... Step: 1990... Loss: 1.2767... Val Loss: 1.3214\n",
      "Epoch: 15/20... Step: 2000... Loss: 1.2681... Val Loss: 1.3172\n",
      "Epoch: 15/20... Step: 2010... Loss: 1.2799... Val Loss: 1.3165\n",
      "Epoch: 15/20... Step: 2020... Loss: 1.2960... Val Loss: 1.3183\n",
      "Epoch: 15/20... Step: 2030... Loss: 1.2634... Val Loss: 1.3207\n",
      "Epoch: 15/20... Step: 2040... Loss: 1.2795... Val Loss: 1.3195\n",
      "Epoch: 15/20... Step: 2050... Loss: 1.2687... Val Loss: 1.3168\n",
      "Epoch: 15/20... Step: 2060... Loss: 1.2794... Val Loss: 1.3192\n",
      "Epoch: 15/20... Step: 2070... Loss: 1.2833... Val Loss: 1.3183\n",
      "Epoch: 15/20... Step: 2080... Loss: 1.2829... Val Loss: 1.3128\n",
      "Epoch: 16/20... Step: 2090... Loss: 1.2871... Val Loss: 1.3225\n",
      "Epoch: 16/20... Step: 2100... Loss: 1.2699... Val Loss: 1.3144\n",
      "Epoch: 16/20... Step: 2110... Loss: 1.2632... Val Loss: 1.3122\n",
      "Epoch: 16/20... Step: 2120... Loss: 1.2753... Val Loss: 1.3182\n",
      "Epoch: 16/20... Step: 2130... Loss: 1.2438... Val Loss: 1.3117\n",
      "Epoch: 16/20... Step: 2140... Loss: 1.2503... Val Loss: 1.3120\n",
      "Epoch: 16/20... Step: 2150... Loss: 1.2887... Val Loss: 1.3102\n",
      "Epoch: 16/20... Step: 2160... Loss: 1.2607... Val Loss: 1.3079\n",
      "Epoch: 16/20... Step: 2170... Loss: 1.2597... Val Loss: 1.3079\n",
      "Epoch: 16/20... Step: 2180... Loss: 1.2537... Val Loss: 1.3037\n",
      "Epoch: 16/20... Step: 2190... Loss: 1.2794... Val Loss: 1.3035\n",
      "Epoch: 16/20... Step: 2200... Loss: 1.2606... Val Loss: 1.3078\n",
      "Epoch: 16/20... Step: 2210... Loss: 1.2195... Val Loss: 1.3003\n",
      "Epoch: 16/20... Step: 2220... Loss: 1.2657... Val Loss: 1.3037\n",
      "Epoch: 17/20... Step: 2230... Loss: 1.2385... Val Loss: 1.3062\n",
      "Epoch: 17/20... Step: 2240... Loss: 1.2572... Val Loss: 1.3056\n",
      "Epoch: 17/20... Step: 2250... Loss: 1.2301... Val Loss: 1.3007\n",
      "Epoch: 17/20... Step: 2260... Loss: 1.2505... Val Loss: 1.3090\n",
      "Epoch: 17/20... Step: 2270... Loss: 1.2525... Val Loss: 1.3006\n",
      "Epoch: 17/20... Step: 2280... Loss: 1.2614... Val Loss: 1.2993\n",
      "Epoch: 17/20... Step: 2290... Loss: 1.2488... Val Loss: 1.2970\n",
      "Epoch: 17/20... Step: 2300... Loss: 1.2157... Val Loss: 1.2990\n",
      "Epoch: 17/20... Step: 2310... Loss: 1.2389... Val Loss: 1.2968\n",
      "Epoch: 17/20... Step: 2320... Loss: 1.2375... Val Loss: 1.2976\n",
      "Epoch: 17/20... Step: 2330... Loss: 1.2369... Val Loss: 1.2961\n",
      "Epoch: 17/20... Step: 2340... Loss: 1.2530... Val Loss: 1.2994\n",
      "Epoch: 17/20... Step: 2350... Loss: 1.2504... Val Loss: 1.2925\n"
     ]
    },
    {
     "name": "stdout",
     "output_type": "stream",
     "text": [
      "Epoch: 17/20... Step: 2360... Loss: 1.2541... Val Loss: 1.2943\n",
      "Epoch: 18/20... Step: 2370... Loss: 1.2316... Val Loss: 1.2985\n",
      "Epoch: 18/20... Step: 2380... Loss: 1.2342... Val Loss: 1.2911\n",
      "Epoch: 18/20... Step: 2390... Loss: 1.2326... Val Loss: 1.2877\n",
      "Epoch: 18/20... Step: 2400... Loss: 1.2588... Val Loss: 1.2921\n",
      "Epoch: 18/20... Step: 2410... Loss: 1.2537... Val Loss: 1.2934\n",
      "Epoch: 18/20... Step: 2420... Loss: 1.2354... Val Loss: 1.2858\n",
      "Epoch: 18/20... Step: 2430... Loss: 1.2497... Val Loss: 1.2899\n",
      "Epoch: 18/20... Step: 2440... Loss: 1.2289... Val Loss: 1.2916\n",
      "Epoch: 18/20... Step: 2450... Loss: 1.2175... Val Loss: 1.2885\n",
      "Epoch: 18/20... Step: 2460... Loss: 1.2437... Val Loss: 1.2867\n",
      "Epoch: 18/20... Step: 2470... Loss: 1.2236... Val Loss: 1.2850\n",
      "Epoch: 18/20... Step: 2480... Loss: 1.2219... Val Loss: 1.2868\n",
      "Epoch: 18/20... Step: 2490... Loss: 1.2072... Val Loss: 1.2836\n",
      "Epoch: 18/20... Step: 2500... Loss: 1.2241... Val Loss: 1.2868\n",
      "Epoch: 19/20... Step: 2510... Loss: 1.2225... Val Loss: 1.2851\n",
      "Epoch: 19/20... Step: 2520... Loss: 1.2372... Val Loss: 1.2863\n",
      "Epoch: 19/20... Step: 2530... Loss: 1.2429... Val Loss: 1.2834\n",
      "Epoch: 19/20... Step: 2540... Loss: 1.2553... Val Loss: 1.2852\n",
      "Epoch: 19/20... Step: 2550... Loss: 1.2146... Val Loss: 1.2871\n",
      "Epoch: 19/20... Step: 2560... Loss: 1.2312... Val Loss: 1.2793\n",
      "Epoch: 19/20... Step: 2570... Loss: 1.2137... Val Loss: 1.2850\n",
      "Epoch: 19/20... Step: 2580... Loss: 1.2475... Val Loss: 1.2826\n",
      "Epoch: 19/20... Step: 2590... Loss: 1.2006... Val Loss: 1.2844\n",
      "Epoch: 19/20... Step: 2600... Loss: 1.2192... Val Loss: 1.2801\n",
      "Epoch: 19/20... Step: 2610... Loss: 1.2178... Val Loss: 1.2788\n",
      "Epoch: 19/20... Step: 2620... Loss: 1.1973... Val Loss: 1.2838\n",
      "Epoch: 19/20... Step: 2630... Loss: 1.2085... Val Loss: 1.2774\n",
      "Epoch: 19/20... Step: 2640... Loss: 1.2170... Val Loss: 1.2798\n",
      "Epoch: 20/20... Step: 2650... Loss: 1.2242... Val Loss: 1.2818\n",
      "Epoch: 20/20... Step: 2660... Loss: 1.2269... Val Loss: 1.2850\n",
      "Epoch: 20/20... Step: 2670... Loss: 1.2291... Val Loss: 1.2755\n",
      "Epoch: 20/20... Step: 2680... Loss: 1.2276... Val Loss: 1.2798\n",
      "Epoch: 20/20... Step: 2690... Loss: 1.2178... Val Loss: 1.2800\n",
      "Epoch: 20/20... Step: 2700... Loss: 1.2188... Val Loss: 1.2718\n",
      "Epoch: 20/20... Step: 2710... Loss: 1.1889... Val Loss: 1.2805\n",
      "Epoch: 20/20... Step: 2720... Loss: 1.1960... Val Loss: 1.2791\n",
      "Epoch: 20/20... Step: 2730... Loss: 1.1950... Val Loss: 1.2817\n",
      "Epoch: 20/20... Step: 2740... Loss: 1.1884... Val Loss: 1.2773\n",
      "Epoch: 20/20... Step: 2750... Loss: 1.1850... Val Loss: 1.2781\n",
      "Epoch: 20/20... Step: 2760... Loss: 1.1812... Val Loss: 1.2773\n",
      "Epoch: 20/20... Step: 2770... Loss: 1.2231... Val Loss: 1.2744\n",
      "Epoch: 20/20... Step: 2780... Loss: 1.2408... Val Loss: 1.2715\n"
     ]
    }
   ],
   "source": [
    "batch_size = 128\n",
    "seq_length = 100\n",
    "n_epochs = 20 # start smaller if you are just testing initial behavior\n",
    "\n",
    "# train the model\n",
    "train(net, encoded, epochs=n_epochs, batch_size=batch_size, seq_length=seq_length, lr=0.001, print_every=10)"
   ]
  },
  {
   "cell_type": "markdown",
   "metadata": {
    "id": "m_wApq1rceEm"
   },
   "source": [
    "## Getting the best model\n",
    "\n",
    "Чтобы настроить гиперпараметры на максимальную производительность, вам нужно будет посмотреть потери при обучении и проверке. Если ваша потеря на обучении намного ниже, чем потеря на тесте, то модель переобучена. Увеличьте регуляризацию или уменьшите число слоев в сети."
   ]
  },
  {
   "cell_type": "markdown",
   "metadata": {
    "id": "GWojDegbsvWK"
   },
   "source": [
    "В ячейке ниже вы можете увидеть рекомендации, которые были найдены в статьях по оптимизации RNN."
   ]
  },
  {
   "cell_type": "markdown",
   "metadata": {
    "id": "xH_QUEmbceEm"
   },
   "source": [
    "## Hyperparameters\n",
    "\n",
    "Гиперпараметры сети:\n",
    "\n",
    "* `n_hidden` - Количество юнитов в скрытых слоях.\n",
    "* `n_layers` - Количество используемых скрытых слоев LSTM.\n",
    "\n",
    "В нашем примере вероятность отсева и скорость обучения сохраняется.\n",
    "\n",
    "Для обучения:\n",
    "* `batch_size` - количество объектов в батче, проходящих по сети за один проход.\n",
    "* `seq_length` - Количество символов в последовательности, на которой обучается сеть. Обычно чем больше, тем лучше, сеть будет изучать более дальние зависимости.\n",
    "* `lr` - learning rate.\n",
    "\n",
    "\n",
    " ## Советы и хитрости\n",
    "\n",
    "> -  В глубоком обучении очень распространено запускать множество различных моделей с множеством различных настроек гиперпараметров и, в конце концов, использовать любую контрольную точку, дающую наилучшую производительность проверки.\n",
    "\n",
    "> - Кстати, размер ваших тренировочных и проверочных разделов также является параметрами. Убедитесь, что у вас есть приличный объем данных в вашем наборе проверки, иначе производительность проверки будет шумной и не очень информативной."
   ]
  },
  {
   "cell_type": "markdown",
   "metadata": {
    "id": "ZfZxvNoDceEm"
   },
   "source": [
    "## Checkpoint\n",
    "\n",
    "После обучения сохраним модель, чтобы можно было загрузить ее позже. Здесь сохраняются параметры, необходимые для создания той же архитектуры, гиперпараметры скрытого слоя и токены."
   ]
  },
  {
   "cell_type": "code",
   "execution_count": 50,
   "metadata": {
    "id": "q6RXl5VAceEm"
   },
   "outputs": [],
   "source": [
    "# change the name, for saving multiple files\n",
    "model_name = 'rnn_x_epoch.net'\n",
    "\n",
    "checkpoint = {'n_hidden': net.n_hidden,\n",
    "              'n_layers': net.n_layers,\n",
    "              'state_dict': net.state_dict(),\n",
    "              'tokens': net.chars}\n",
    "\n",
    "with open(model_name, 'wb') as f:\n",
    "    torch.save(checkpoint, f)"
   ]
  },
  {
   "cell_type": "markdown",
   "metadata": {
    "id": "K2sJhx5iceEm"
   },
   "source": [
    "---\n",
    "## Making Predictions\n",
    "\n",
    "Теперь, когда модель обучена, сделаем предсказание следующих символов! Для предсказания мы передаем последний символ обучения, и сеть предсказывает следующий символ, который мы потом передаем обратно и получаем еще один предсказанный символ и так далее...\n",
    "\n",
    "Наши прогнозы основаны на категориальном распределении вероятностей по всем возможным символам. Мы можем ограничить число символов, чтобы сделать получаемый предсказанный текст более разумным, рассматривая только некоторые наиболее вероятные символы $K$. Это не позволит сети выдавать нам совершенно абсурдные символы, а также позволит внести некоторый шум и случайность в выбранный текст. Узнать больше [можно здесь](https://pytorch.org/docs/stable/torch.html#torch.topk).\n"
   ]
  },
  {
   "cell_type": "code",
   "execution_count": 51,
   "metadata": {
    "id": "QEIRW_B2ceEm"
   },
   "outputs": [],
   "source": [
    "def predict(net, char, h=None, top_k=None):\n",
    "        ''' Given a character, predict the next character.\n",
    "            Returns the predicted character and the hidden state.\n",
    "        '''\n",
    "        \n",
    "        # tensor inputs\n",
    "        x = np.array([[net.char2int[char]]])\n",
    "        x = one_hot_encode(x, len(net.chars))\n",
    "        inputs = torch.from_numpy(x)\n",
    "        \n",
    "        if(train_on_gpu):\n",
    "            inputs = inputs.cuda()\n",
    "        \n",
    "        # detach hidden state from history\n",
    "        h = tuple([each.data for each in h])\n",
    "        # get the output of the model\n",
    "        out, h = net(inputs, h)\n",
    "\n",
    "        # get the character probabilities\n",
    "        p = F.softmax(out, dim=1).data\n",
    "        if(train_on_gpu):\n",
    "            p = p.cpu() # move to cpu\n",
    "        \n",
    "        # get top characters\n",
    "        if top_k is None:\n",
    "            top_ch = np.arange(len(net.chars))\n",
    "        else:\n",
    "            p, top_ch = p.topk(top_k)\n",
    "            top_ch = top_ch.numpy().squeeze()\n",
    "        \n",
    "        # select the likely next character with some element of randomness\n",
    "        p = p.numpy().squeeze()\n",
    "        char = np.random.choice(top_ch, p=p/p.sum())\n",
    "        \n",
    "        # return the encoded value of the predicted char and the hidden state\n",
    "        return net.int2char[char], h"
   ]
  },
  {
   "cell_type": "markdown",
   "metadata": {
    "id": "OG38j3gQceEm"
   },
   "source": [
    "### Priming and generating text \n",
    "\n",
    "Нужно создать скрытое состояние, чтобы сеть не генерировала произвольные символы. "
   ]
  },
  {
   "cell_type": "code",
   "execution_count": 52,
   "metadata": {
    "id": "P9vpB5gRceEm"
   },
   "outputs": [],
   "source": [
    "def sample(net, size, prime='The', top_k=None):\n",
    "        \n",
    "    if(train_on_gpu):\n",
    "        net.cuda()\n",
    "    else:\n",
    "        net.cpu()\n",
    "    \n",
    "    net.eval() # eval mode\n",
    "    \n",
    "    # First off, run through the prime characters\n",
    "    chars = [ch for ch in prime]\n",
    "    h = net.init_hidden(1)\n",
    "    for ch in prime:\n",
    "        char, h = predict(net, ch, h, top_k=top_k)\n",
    "\n",
    "    chars.append(char)\n",
    "    \n",
    "    # Now pass in the previous character and get a new one\n",
    "    for ii in range(size):\n",
    "        char, h = predict(net, chars[-1], h, top_k=top_k)\n",
    "        chars.append(char)\n",
    "\n",
    "    return ''.join(chars)"
   ]
  },
  {
   "cell_type": "code",
   "execution_count": 53,
   "metadata": {
    "id": "BqmFA9eEceEm"
   },
   "outputs": [
    {
     "name": "stdout",
     "output_type": "stream",
     "text": [
      "Anna, and a\n",
      "moments where were near the contrary to a sort. And he could not think\n",
      "something about in the morring of answer,\n",
      "but and his strong weather was not in the sound of a soft fellow\n",
      "time. He felt that they had seem to home and she had already did\n",
      "not know him, and to get at the point of the paticule. She would\n",
      "see how it was in the same time, but he walked to her so as true\n",
      "that it were stricken on a figher of steps, and hoself to see all\n",
      "his family, that simmer, heading himself in the first family of his\n",
      "sensation and already--the sale as though she had been to be a sing of\n",
      "the same, and stracken a signing table. She saw she changed that the\n",
      "footman of tears asked a ceaches were saying that there was a personabliness\n",
      "of those parts. She had never been an artist that how the marsh was not\n",
      "so little hands, and with a position in his shooling-gratery\n",
      "forement, but there was no meaning.\n",
      "\n",
      "\"Where was a general of the corridor? You know his feet that you are nick\n",
      "fact,\" said Levin.\n",
      "\n",
      "\"Well\n"
     ]
    }
   ],
   "source": [
    "print(sample(net, 1000, prime='Anna', top_k=5))"
   ]
  },
  {
   "cell_type": "markdown",
   "metadata": {
    "id": "942mjdQHceEm"
   },
   "source": [
    "## Loading a checkpoint"
   ]
  },
  {
   "cell_type": "code",
   "execution_count": null,
   "metadata": {
    "id": "Xt9ldUuSceEm"
   },
   "outputs": [],
   "source": [
    "# Here we have loaded in a model that trained over 20 epochs `rnn_20_epoch.net`\n",
    "with open('rnn_x_epoch.net', 'rb') as f:\n",
    "    checkpoint = torch.load(f)\n",
    "    \n",
    "loaded = CharRNN(checkpoint['tokens'], n_hidden=checkpoint['n_hidden'], n_layers=checkpoint['n_layers'])\n",
    "loaded.load_state_dict(checkpoint['state_dict'])"
   ]
  },
  {
   "cell_type": "code",
   "execution_count": null,
   "metadata": {
    "id": "Ut6R3zDcceEm"
   },
   "outputs": [],
   "source": [
    "# Sample using a loaded model\n",
    "print(sample(loaded, 2000, top_k=5, prime=\"And Levin said\"))"
   ]
  },
  {
   "cell_type": "code",
   "execution_count": null,
   "metadata": {
    "id": "TH1ag4h1ceEm"
   },
   "outputs": [],
   "source": []
  }
 ],
 "metadata": {
  "colab": {
   "collapsed_sections": [],
   "name": "Verteeva_RNN_Exercise_3.ipynb",
   "provenance": []
  },
  "kernelspec": {
   "display_name": "Python 3",
   "language": "python",
   "name": "python3"
  },
  "language_info": {
   "codemirror_mode": {
    "name": "ipython",
    "version": 3
   },
   "file_extension": ".py",
   "mimetype": "text/x-python",
   "name": "python",
   "nbconvert_exporter": "python",
   "pygments_lexer": "ipython3",
   "version": "3.7.8"
  }
 },
 "nbformat": 4,
 "nbformat_minor": 1
}
